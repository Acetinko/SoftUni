{
 "cells": [
  {
   "cell_type": "markdown",
   "metadata": {},
   "source": [
    "#### Polinomials"
   ]
  },
  {
   "cell_type": "code",
   "execution_count": 23,
   "metadata": {
    "scrolled": true
   },
   "outputs": [
    {
     "data": {
      "text/plain": [
       "array([ 16., -10.,  -4.,   0., -24.,  15.,   6.])"
      ]
     },
     "execution_count": 23,
     "metadata": {},
     "output_type": "execute_result"
    }
   ],
   "source": [
    "import numpy.polynomial.polynomial as p\n",
    "p.polyadd([-8, 5, 2], [-2, 0, 0, 0, 3])\n",
    "p.polymul([-8, 5, 2], [-2, 0, 0, 0, 3])"
   ]
  },
  {
   "cell_type": "code",
   "execution_count": 25,
   "metadata": {},
   "outputs": [
    {
     "name": "stdout",
     "output_type": "stream",
     "text": [
      "3.0*x**4 - 2.0\n"
     ]
    }
   ],
   "source": [
    "import sympy\n",
    "from sympy.abc import x\n",
    "polynomial = p.Polynomial([-2, 0, 0, 0, 3])\n",
    "sympy.init_printing()\n",
    "print(sympy.Poly(reversed(polynomial.coef), x).as_expr())"
   ]
  },
  {
   "cell_type": "markdown",
   "metadata": {},
   "source": [
    "#### Set"
   ]
  },
  {
   "cell_type": "code",
   "execution_count": null,
   "metadata": {
    "collapsed": true
   },
   "outputs": [],
   "source": [
    "my_list = [2, 3, 10]\n",
    "print(my_list[1])\n",
    "my_set = {2, 3, 10}\n",
    "print(my_set)"
   ]
  },
  {
   "cell_type": "code",
   "execution_count": null,
   "metadata": {
    "collapsed": true
   },
   "outputs": [],
   "source": [
    "range(5)\n",
    "list(range(5))"
   ]
  },
  {
   "cell_type": "code",
   "execution_count": null,
   "metadata": {
    "collapsed": true
   },
   "outputs": [],
   "source": [
    "import numpy as np\n",
    "np.arange(1)"
   ]
  },
  {
   "cell_type": "code",
   "execution_count": null,
   "metadata": {
    "collapsed": true
   },
   "outputs": [],
   "source": [
    "numbers = []\n",
    "for i in range(11):\n",
    "    numbers.append(i)\n",
    "print(numbers)"
   ]
  },
  {
   "cell_type": "code",
   "execution_count": null,
   "metadata": {
    "collapsed": true
   },
   "outputs": [],
   "source": [
    "# List comprehension\n",
    "numbers = [i for i in range(11)]\n",
    "print(numbers)"
   ]
  },
  {
   "cell_type": "code",
   "execution_count": null,
   "metadata": {
    "collapsed": true
   },
   "outputs": [],
   "source": [
    "numbers = [x * y for x in range(5) for y in range(5)]\n",
    "print(numbers)"
   ]
  },
  {
   "cell_type": "code",
   "execution_count": null,
   "metadata": {
    "collapsed": true
   },
   "outputs": [],
   "source": [
    "numbers = [x for x in range(50) if x >= 20 and x < 25]\n",
    "print(numbers)"
   ]
  },
  {
   "cell_type": "code",
   "execution_count": null,
   "metadata": {
    "collapsed": true
   },
   "outputs": [],
   "source": [
    "positive_x = {x for x in range(-5, 5) if x >= 0}\n",
    "print(positive_x)"
   ]
  },
  {
   "cell_type": "code",
   "execution_count": null,
   "metadata": {
    "collapsed": true
   },
   "outputs": [],
   "source": [
    "set1 = {1, 2, 3, 4}\n",
    "set2 = {3, 4, 5, 10, 3, 5, 10, 3, 3}\n",
    "print(len(set2))\n",
    "print(1 in set1)\n",
    "print(10 not in set1)\n",
    "print({1, 2}.issubset(set1))\n",
    "print(set1.union(set2))\n",
    "print(set1.difference(set2))\n",
    "print(set2.difference(set1))\n",
    "print(set1.symmetric_difference(set2))"
   ]
  },
  {
   "cell_type": "code",
   "execution_count": null,
   "metadata": {
    "collapsed": true
   },
   "outputs": [],
   "source": [
    "def add_one(x):\n",
    "    return x + 1\n",
    "add_one(2)"
   ]
  },
  {
   "cell_type": "markdown",
   "metadata": {
    "collapsed": true
   },
   "source": [
    "### functions"
   ]
  },
  {
   "cell_type": "code",
   "execution_count": null,
   "metadata": {
    "collapsed": true
   },
   "outputs": [],
   "source": [
    "def linear_function(x):\n",
    "    return 2 * x + 3\n",
    "\n",
    "def square(x):\n",
    "    return x * x"
   ]
  },
  {
   "cell_type": "code",
   "execution_count": null,
   "metadata": {},
   "outputs": [],
   "source": [
    "def linear_function_f(f, x):\n",
    "    return 2 * f(x) + 3\n",
    "\n",
    "linear_function_f(square, 4)"
   ]
  },
  {
   "cell_type": "code",
   "execution_count": null,
   "metadata": {
    "collapsed": true
   },
   "outputs": [],
   "source": [
    "def compose(f, g, x):\n",
    "    \"\"\"\n",
    "    Returns the composition of the functions f and g, applied to the arguments x\n",
    "    \"\"\"\n",
    "    return f(g(x))"
   ]
  },
  {
   "cell_type": "code",
   "execution_count": null,
   "metadata": {},
   "outputs": [],
   "source": [
    "print(compose(linear_function, square, 4))\n",
    "print(compose(square, linear_function, 4))"
   ]
  },
  {
   "cell_type": "code",
   "execution_count": null,
   "metadata": {
    "collapsed": true
   },
   "outputs": [],
   "source": [
    "def comp(f, g):\n",
    "    return lambda x: f(g(x))"
   ]
  },
  {
   "cell_type": "code",
   "execution_count": null,
   "metadata": {},
   "outputs": [],
   "source": [
    "comp(linear_function, square)(4)"
   ]
  },
  {
   "cell_type": "markdown",
   "metadata": {},
   "source": [
    "#### Function graphs"
   ]
  },
  {
   "cell_type": "code",
   "execution_count": null,
   "metadata": {},
   "outputs": [],
   "source": [
    "import numpy as np\n",
    "import matplotlib.pyplot as plt\n",
    "def plot_function(f, x_min = -10, x_max = 10, n_values = 2000):\n",
    "    x = np.linspace(x_min, x_max, n_values)\n",
    "    y = f(x) # Broadcasting\n",
    "    plt.plot(x, y)\n",
    "    plt.show()\n",
    "\n",
    "plot_function(lambda x: np.sin(x))"
   ]
  },
  {
   "cell_type": "code",
   "execution_count": null,
   "metadata": {},
   "outputs": [],
   "source": [
    "import numpy as np\n",
    "import matplotlib.pyplot as plt\n",
    "def plot_function(f, x_min = -10, x_max = 10, n_values = 2000):\n",
    "    x = np.linspace(x_min, x_max, n_values)\n",
    "    y = np.vectorize(f)(x)\n",
    "    plt.plot(x, y)\n",
    "    plt.show()\n",
    "\n",
    "import math\n",
    "plot_function(lambda x: math.sin(x))\n",
    "#plot_function(linear_function(2))"
   ]
  },
  {
   "cell_type": "markdown",
   "metadata": {
    "collapsed": true
   },
   "source": [
    "#### Circle\n",
    "$x^2 + y^2 = 1$ or $ $"
   ]
  },
  {
   "cell_type": "code",
   "execution_count": null,
   "metadata": {},
   "outputs": [],
   "source": [
    "r = [1] * 1000\n",
    "phi = np.linspace(0, 2 * np.pi, 1000)\n",
    "plt.polar(phi, r)\n",
    "plt.show()"
   ]
  },
  {
   "cell_type": "code",
   "execution_count": null,
   "metadata": {},
   "outputs": [],
   "source": [
    "r = [1] * 1000\n",
    "phi = np.linspace(0, 2 * np.pi, 1000)\n",
    "\n",
    "x = r * np.cos(phi)\n",
    "y = r * np.sin(phi)\n",
    "\n",
    "plt.plot(x, y)\n",
    "plt.gca().set_aspect(\"equal\") # get current axis and set its property\n",
    "plt.show()"
   ]
  },
  {
   "cell_type": "markdown",
   "metadata": {},
   "source": [
    "#### Number Fields\n",
    "##### Complex Numbers"
   ]
  },
  {
   "cell_type": "code",
   "execution_count": 37,
   "metadata": {},
   "outputs": [
    {
     "name": "stdout",
     "output_type": "stream",
     "text": [
      "(4+1j)\n",
      "(5-1j)\n",
      "[5.0, -1.0]\n"
     ]
    }
   ],
   "source": [
    "print((3 + 2j) + (1 - 1j))\n",
    "print((3 + 2j) * (1 - 1j))\n",
    "z = (3 + 2j) * (1 - 1j)\n",
    "print([z.real, z.imag])"
   ]
  },
  {
   "cell_type": "markdown",
   "metadata": {},
   "source": [
    "### Fundamental Theorem of Algebra"
   ]
  },
  {
   "cell_type": "code",
   "execution_count": 42,
   "metadata": {},
   "outputs": [
    {
     "name": "stdout",
     "output_type": "stream",
     "text": [
      "[(4+0j), (-1+0j)]\n",
      "[(2+0j), (-2+0j)]\n",
      "[(-1+0j), (-1+0j)]\n",
      "[(-2+1j), (-2-1j)]\n"
     ]
    }
   ],
   "source": [
    "import cmath\n",
    "def solve_quadratic_equation(a, b, c):\n",
    "        discriminant = cmath.sqrt(b * b - 4 * a * c)\n",
    "        return [\n",
    "            (-b + discriminant) / (2 * a),\n",
    "            (-b - discriminant) / (2 * a)\n",
    "        ]\n",
    "print(solve_quadratic_equation(1, -3, -4))\n",
    "print(solve_quadratic_equation(1, 0, -4))\n",
    "print(solve_quadratic_equation(1, 2, 1))\n",
    "print(solve_quadratic_equation(1, 4, 5)) "
   ]
  },
  {
   "cell_type": "code",
   "execution_count": null,
   "metadata": {
    "collapsed": true
   },
   "outputs": [],
   "source": []
  }
 ],
 "metadata": {
  "kernelspec": {
   "display_name": "Python 3",
   "language": "python",
   "name": "python3"
  },
  "language_info": {
   "codemirror_mode": {
    "name": "ipython",
    "version": 3
   },
   "file_extension": ".py",
   "mimetype": "text/x-python",
   "name": "python",
   "nbconvert_exporter": "python",
   "pygments_lexer": "ipython3",
   "version": "3.6.1"
  }
 },
 "nbformat": 4,
 "nbformat_minor": 2
}
